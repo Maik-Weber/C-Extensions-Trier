{
 "cells": [
  {
   "cell_type": "markdown",
   "id": "f181027f",
   "metadata": {},
   "source": [
    "<div class=\"alert alert-block alert-info\">\n",
    "\n",
    "##  Praxisbeispiel: Grayscale-Filter (Graustufen-Filter)\n",
    "\n",
    "#### Ein Grayscale-Filter (Graustufenfilter) ist ein Werkzeug, das in der Bildbearbeitung verwendet wird, um ein farbiges Bild in ein Graustufenbild zu konvertieren. $\\newline$\n",
    "<div>\n",
    "    <img src=\"kingfisher-grayscale-filter.png\" style=\"width:50%;\"/>\n",
    "    </div>\n",
    "    \n",
    "#### <b>Anwendungen:</b> Textur- und Strukturanalyse, Datenreduktion, Ästhetik, etc.\n",
    "\n",
    "#### <b>Einfachste Umsetzung:</b> Die RGB-Kanäle werden für jedes Pixel durch das arithmetische Mittel ersetzt $R=G=B:=\\frac{R+G+B}{3}$.\n",
    "</div>"
   ]
  },
  {
   "cell_type": "markdown",
   "id": "d61d2a33-99b2-4a67-8525-8330d8ad135b",
   "metadata": {},
   "source": [
    "# 1. Pure Python"
   ]
  },
  {
   "cell_type": "code",
   "execution_count": null,
   "id": "f6d9c919",
   "metadata": {},
   "outputs": [],
   "source": [
    "import time #for profiling\n",
    "from PIL import Image #PIL = Python Imaging Library"
   ]
  },
  {
   "cell_type": "code",
   "execution_count": null,
   "id": "7dc405de-350c-4484-8977-e59fc9e933b3",
   "metadata": {},
   "outputs": [],
   "source": [
    "def grayscale_filter_py(pixel_size, bytes):\n",
    "    \"\"\"Applies grayscale filter to bytes of an RGB image\"\"\"\n",
    "    \n",
    "    for i in range(0,3*pixel_size,3):   \n",
    "        r,g,b = bytes[i], bytes[i+1], bytes[i+2]\n",
    "        avg = (r+g+b)//3\n",
    "        bytes[i] = bytes[i+1] = bytes[i+2] = avg\n",
    "    \n",
    "    return None"
   ]
  },
  {
   "cell_type": "markdown",
   "id": "d308eccb",
   "metadata": {},
   "source": [
    "<div class=\"alert alert-block alert-success\">\n",
    "\n",
    "### Aufgabe 1: \n",
    "#### Warum läuft die Schleife bis zur dreifachen Pixelzahl?\n",
    "#### Warum wird der Operator // zur Division verwendet?\n",
    "#### Warum gibt die Funktion nichts zurück?\n",
    "\n",
    "</div>"
   ]
  },
  {
   "cell_type": "markdown",
   "id": "3ebc0053-a407-4934-b76c-fcd0b14c6003",
   "metadata": {},
   "source": [
    "### Testbild"
   ]
  },
  {
   "cell_type": "code",
   "execution_count": null,
   "id": "e85e0b60",
   "metadata": {},
   "outputs": [],
   "source": [
    "test_image = Image.open('C:/Users/LENOVO/Pictures/Hochschule_Trier/trier.jpg') #test image from Pixabay\n",
    "print(test_image.mode, test_image.size)"
   ]
  },
  {
   "cell_type": "code",
   "execution_count": null,
   "id": "5d58b7e0-cf5c-448d-ab19-1fcb51223da0",
   "metadata": {},
   "outputs": [],
   "source": [
    "def show_image(image):\n",
    "    \"\"\"Auxiliary function: Displays a smaller picture without altering the original\"\"\"\n",
    "    thumbnail = image.resize((test_image.width//5, test_image.height//5))\n",
    "    print(image.mode, image.size)\n",
    "    display(thumbnail)"
   ]
  },
  {
   "cell_type": "code",
   "execution_count": null,
   "id": "dbf93d42-7d10-4ff0-9f3d-c715d6bc54cc",
   "metadata": {},
   "outputs": [],
   "source": [
    "show_image(test_image)"
   ]
  },
  {
   "cell_type": "markdown",
   "id": "01a240c7-fa26-4d98-9402-996cdef6f9d5",
   "metadata": {},
   "source": [
    "### Anwendung und Profiling"
   ]
  },
  {
   "cell_type": "code",
   "execution_count": null,
   "id": "2f582b39-3c09-4dab-838e-45b3f8aa0d99",
   "metadata": {},
   "outputs": [],
   "source": [
    "img_bytes = bytearray(test_image.tobytes())\n",
    "size = test_image.width*test_image.height\n",
    "\n",
    "t0 = time.time()\n",
    "grayscale_filter_py(size, img_bytes)\n",
    "t1 = time.time()\n",
    "\n",
    "result = Image.frombytes(test_image.mode, test_image.size, bytes(img_bytes)) \n",
    "\n",
    "delta_t_py = t1-t0\n",
    "print(\"Execution time (Python): \", round(delta_t_py,3), \" seconds.\")"
   ]
  },
  {
   "cell_type": "code",
   "execution_count": null,
   "id": "cbe1b4ca",
   "metadata": {},
   "outputs": [],
   "source": [
    "show_image(result)"
   ]
  },
  {
   "cell_type": "markdown",
   "id": "364ea8f0-d2df-41b1-a0b8-901a27ff825d",
   "metadata": {},
   "source": [
    "<div class=\"alert alert-block alert-success\">\n",
    "\n",
    "### Aufgabe 2: \n",
    "#### Stellen Sie eine grobe Überschlagsrechnung an: Wie schnell sollte ein Rechner mit 4 GFLOPS, den Algorithmus für unser Testbild ausführen können?\n",
    "\n",
    "</div>"
   ]
  },
  {
   "cell_type": "code",
   "execution_count": null,
   "id": "68414ac9-5c1f-400a-a0f2-56227355115a",
   "metadata": {},
   "outputs": [],
   "source": []
  },
  {
   "cell_type": "markdown",
   "id": "350c8ce4-6113-4b12-935b-dd3a5b2488ca",
   "metadata": {},
   "source": [
    "# 2. C-Bibliothek"
   ]
  },
  {
   "cell_type": "markdown",
   "id": "3db94315-315c-44e7-8643-5777fa127e6c",
   "metadata": {},
   "source": [
    "<div class=\"alert alert-block alert-success\">\n",
    "    \n",
    "### Aufgabe 3: \n",
    "#### In Python iterieren wir über die Bytes eines bytearray-objects. Welchen Datentyp verwenden wir in C?\n",
    "</div>"
   ]
  },
  {
   "cell_type": "code",
   "execution_count": null,
   "id": "22ee57c9",
   "metadata": {},
   "outputs": [],
   "source": [
    "import ctypes"
   ]
  },
  {
   "cell_type": "code",
   "execution_count": null,
   "id": "a3b72bc2",
   "metadata": {},
   "outputs": [],
   "source": [
    "c_lib =ctypes.CDLL(\"./libgrayscale_c.dll\")"
   ]
  },
  {
   "cell_type": "code",
   "execution_count": null,
   "id": "a11a73bb",
   "metadata": {},
   "outputs": [],
   "source": [
    "img_bytes = test_image.tobytes()\n",
    "size = test_image.width*test_image.height\n",
    "\n",
    "t0 = time.time()\n",
    "c_lib.grayscale_filter(size, img_bytes)\n",
    "t1 = time.time()\n",
    "\n",
    "result = Image.frombytes(test_image.mode, test_image.size, img_bytes) \n",
    "\n",
    "delta_t_C = t1-t0\n",
    "print(\"Execution time (C Lib.):\", round(delta_t_C,3), \" seconds.\")"
   ]
  },
  {
   "cell_type": "code",
   "execution_count": null,
   "id": "40f051e7",
   "metadata": {},
   "outputs": [],
   "source": [
    "show_image(result)"
   ]
  },
  {
   "cell_type": "code",
   "execution_count": null,
   "id": "60afb834",
   "metadata": {},
   "outputs": [],
   "source": [
    "print(\"Factor: \"+ str(round(delta_t_py/delta_t_C,1)))"
   ]
  },
  {
   "cell_type": "markdown",
   "id": "dcc498b4-b80c-4672-bb26-b0018dda33d2",
   "metadata": {},
   "source": [
    "# 3. C-Extension als eigenständiges Modul"
   ]
  },
  {
   "cell_type": "code",
   "execution_count": null,
   "id": "ed3c40be-74a7-4291-8817-aa9df476092f",
   "metadata": {},
   "outputs": [],
   "source": [
    "import grayscale_module as gs"
   ]
  },
  {
   "cell_type": "code",
   "execution_count": null,
   "id": "0a86ea73-c1f0-41dd-ac68-ad38d3dc1aa2",
   "metadata": {},
   "outputs": [],
   "source": [
    "help(gs)"
   ]
  },
  {
   "cell_type": "code",
   "execution_count": null,
   "id": "2151d145-2da5-480c-9ba3-ffcfb74c524f",
   "metadata": {},
   "outputs": [],
   "source": [
    "img_bytes = test_image.tobytes()\n",
    "\n",
    "t0 = time.time()\n",
    "gs.grayscale(size, img_bytes)\n",
    "t1 = time.time()\n",
    "\n",
    "result = Image.frombytes(test_image.mode, test_image.size, img_bytes)\n",
    "\n",
    "delta_t_C_Module = t1-t0\n",
    "print(\"Execution time (C Module):\", round(delta_t_C_Module,3), \" seconds.\")"
   ]
  },
  {
   "cell_type": "code",
   "execution_count": null,
   "id": "1b46cf05-a09c-4807-89cb-63a27529ace8",
   "metadata": {},
   "outputs": [],
   "source": [
    "show_image(result)"
   ]
  },
  {
   "cell_type": "code",
   "execution_count": null,
   "id": "fdf5b51f-56be-4f9e-8247-bed2bfd49ed5",
   "metadata": {},
   "outputs": [],
   "source": [
    "print(\"Factor: \"+ str(round(delta_t_py/delta_t_C_Module,1)))"
   ]
  },
  {
   "cell_type": "markdown",
   "id": "b135b1ce-6875-4785-b2b8-45035e132b7a",
   "metadata": {},
   "source": [
    "#### Results"
   ]
  },
  {
   "cell_type": "code",
   "execution_count": null,
   "id": "8de505be-40fe-47b8-83e6-258fad78d8ac",
   "metadata": {},
   "outputs": [],
   "source": [
    "from tabulate import tabulate"
   ]
  },
  {
   "cell_type": "code",
   "execution_count": null,
   "id": "64c66a10-0de6-459c-8e53-d3792a46d7cc",
   "metadata": {},
   "outputs": [],
   "source": [
    "head = [\"Execution Time [sec]\", \"Python Execution Time / Execution Time\"]"
   ]
  },
  {
   "cell_type": "code",
   "execution_count": null,
   "id": "69cdc919-fcc8-45d4-b01a-4086730de02c",
   "metadata": {},
   "outputs": [],
   "source": [
    "data = [\n",
    "    [\"Pure Python\", round(delta_t_py,3), 1.0],\n",
    "    [\"C DLL\", round(delta_t_C,3), round(delta_t_py/delta_t_C,1)],\n",
    "    [\"C Module\", round(delta_t_C_Module,3), round(delta_t_py/delta_t_C_Module,1)]]"
   ]
  },
  {
   "cell_type": "code",
   "execution_count": null,
   "id": "be13b01a-06d0-463a-ae0c-af0bb5bc4d0a",
   "metadata": {},
   "outputs": [],
   "source": [
    "print(tabulate(data, headers=head, tablefmt=\"fancy_grid\"))"
   ]
  },
  {
   "cell_type": "code",
   "execution_count": null,
   "id": "95106613-8955-4d2c-8005-93b27b4162a0",
   "metadata": {},
   "outputs": [],
   "source": []
  },
  {
   "cell_type": "markdown",
   "id": "ff4e9425-b8fb-4f24-9955-8a84fcf315db",
   "metadata": {},
   "source": [
    "### Wie schnell ist eigentlich der Grayscale-Filter von PIL?"
   ]
  },
  {
   "cell_type": "code",
   "execution_count": null,
   "id": "228ae6ef-33df-4f53-8695-1250c6689609",
   "metadata": {},
   "outputs": [],
   "source": [
    "from PIL import ImageOps\n",
    "\n",
    "t0 = time.time()\n",
    "result = ImageOps.grayscale(test_image)\n",
    "t1 = time.time()\n",
    "\n",
    "show_image(result)\n",
    "\n",
    "delta_t_PIL = t1-t0\n",
    "print(\"Execution time (PIL):\", round(delta_t_PIL,3), \" seconds.\")"
   ]
  },
  {
   "cell_type": "code",
   "execution_count": null,
   "id": "488d4fce-ec0a-4bcf-9076-86829194c272",
   "metadata": {},
   "outputs": [],
   "source": []
  },
  {
   "cell_type": "code",
   "execution_count": null,
   "id": "b63e6376-35d6-4b7b-9c56-7b88410b7c98",
   "metadata": {},
   "outputs": [],
   "source": []
  },
  {
   "cell_type": "code",
   "execution_count": null,
   "id": "aa7dda02-c64c-437d-af51-47221253d5af",
   "metadata": {},
   "outputs": [],
   "source": []
  },
  {
   "cell_type": "code",
   "execution_count": null,
   "id": "6bb6c965-dff1-492b-9580-e2ca12dffa68",
   "metadata": {},
   "outputs": [],
   "source": []
  },
  {
   "cell_type": "markdown",
   "id": "10de2e1b-59c1-4c22-9bd4-a3983f05e222",
   "metadata": {},
   "source": [
    "#### Appendix"
   ]
  },
  {
   "cell_type": "markdown",
   "id": "b4503d95-6d44-49f1-a0ff-359eb13e9c97",
   "metadata": {},
   "source": [
    "It is tempting to implement the grayscale filter in Python on a pixel level, instead of\n",
    "byte level. However, this is extremely slow! Example below:"
   ]
  },
  {
   "cell_type": "code",
   "execution_count": null,
   "id": "fd6ad55e",
   "metadata": {},
   "outputs": [],
   "source": [
    "def grayscale_filter_pixelwise(image):\n",
    "    \"\"\"Applies grayscale filter to image and returns gray image\"\"\"\n",
    "    \n",
    "    width, height = image.size\n",
    "    result = Image.new(image.mode, image.size) \n",
    "    \n",
    "    for x in range(width):\n",
    "        for y in range(height):            \n",
    "            r, g, b = image.getpixel((x,y))\n",
    "            avg = (r+g+b)//3 \n",
    "            result.putpixel((x,y), (avg,avg,avg)) # Extremely slow function!\n",
    "\n",
    "    return result"
   ]
  },
  {
   "cell_type": "code",
   "execution_count": null,
   "id": "aa44086e",
   "metadata": {},
   "outputs": [],
   "source": [
    "t0 = time.time()\n",
    "result = grayscale_filter_pixelwise(test_image)\n",
    "t1 = time.time()\n",
    "delta_t_pixels = t1-t0\n",
    "print(\"Execution time (Python, pixelwise): \", round(delta_t_pixels,3), \" seconds.\")"
   ]
  },
  {
   "cell_type": "code",
   "execution_count": null,
   "id": "f07d06ba-264f-4c22-86ea-2ac38f858527",
   "metadata": {},
   "outputs": [],
   "source": []
  }
 ],
 "metadata": {
  "kernelspec": {
   "display_name": "Python 3 (ipykernel)",
   "language": "python",
   "name": "python3"
  },
  "language_info": {
   "codemirror_mode": {
    "name": "ipython",
    "version": 3
   },
   "file_extension": ".py",
   "mimetype": "text/x-python",
   "name": "python",
   "nbconvert_exporter": "python",
   "pygments_lexer": "ipython3",
   "version": "3.9.18"
  }
 },
 "nbformat": 4,
 "nbformat_minor": 5
}
