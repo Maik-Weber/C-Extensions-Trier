{
 "cells": [
  {
   "cell_type": "markdown",
   "id": "f181027f",
   "metadata": {},
   "source": [
    "<div class=\"alert alert-block alert-info\">\n",
    "\n",
    "##  Praxisbeispiel: Grayscale-Filter (Graustufen-Filter)\n",
    "\n",
    "#### Ein Grayscale-Filter (Graustufenfilter) ist ein Werkzeug, das in der Bildbearbeitung verwendet wird, um ein farbiges Bild in ein Graustufenbild zu konvertieren. $\\newline$\n",
    "<div>\n",
    "    <img src=\"kingfisher-grayscale-filter.png\" style=\"width:50%;\"/>\n",
    "    </div>\n",
    "    \n",
    "#### <b>Anwendungen:</b> Textur- und Strukturanalyse, Datenreduktion, Ästhetik, etc.\n",
    "\n",
    "#### <b>Einfachste Umsetzung:</b> Die RGB-Kanäle werden für jedes Pixel durch das arithmetische Mittel ersetzt $R=G=B:=\\frac{R+G+B}{3}$.\n",
    "</div>"
   ]
  },
  {
   "cell_type": "markdown",
   "id": "d61d2a33-99b2-4a67-8525-8330d8ad135b",
   "metadata": {},
   "source": [
    "# 1. Pure Python"
   ]
  },
  {
   "cell_type": "code",
   "execution_count": null,
   "id": "f6d9c919",
   "metadata": {},
   "outputs": [],
   "source": [
    "import time #for profiling\n",
    "from PIL import Image #PIL = Python Imaging Library"
   ]
  },
  {
   "cell_type": "code",
   "execution_count": null,
   "id": "7dc405de-350c-4484-8977-e59fc9e933b3",
   "metadata": {},
   "outputs": [],
   "source": [
    "def grayscale_filter_py(pixel_size, bytes):\n",
    "    \"\"\"Applies grayscale filter to bytes of an RGB image\"\"\"\n",
    "    \n",
    "    for i in range(0,3*pixel_size,3):   \n",
    "        r,g,b = bytes[i], bytes[i+1], bytes[i+2]\n",
    "        avg = (r+g+b)//3\n",
    "        bytes[i] = bytes[i+1] = bytes[i+2] = avg\n",
    "    \n",
    "    return None"
   ]
  },
  {
   "cell_type": "markdown",
   "id": "d308eccb",
   "metadata": {},
   "source": [
    "<div class=\"alert alert-block alert-success\">\n",
    "\n",
    "### Aufgabe 1: \n",
    "#### Warum wird der Operator // zur Division verwendet?\n",
    "</div>"
   ]
  },
  {
   "cell_type": "markdown",
   "id": "3ebc0053-a407-4934-b76c-fcd0b14c6003",
   "metadata": {},
   "source": [
    "### Testbild"
   ]
  },
  {
   "cell_type": "code",
   "execution_count": null,
   "id": "e85e0b60",
   "metadata": {},
   "outputs": [],
   "source": [
    "test_image = Image.open('C:/Users/LENOVO/Pictures/Hochschule_Trier/trier.jpg') #test image from Pixabay\n",
    "print(test_image.mode, test_image.size)"
   ]
  },
  {
   "cell_type": "code",
   "execution_count": null,
   "id": "5d58b7e0-cf5c-448d-ab19-1fcb51223da0",
   "metadata": {},
   "outputs": [],
   "source": [
    "def show_image(image):\n",
    "    \"\"\"Auxiliary function: Displays a smaller picture without altering the original\"\"\"\n",
    "    thumbnail = image.resize((test_image.width//5, test_image.height//5))\n",
    "    print(image.mode, image.size)\n",
    "    display(thumbnail)"
   ]
  },
  {
   "cell_type": "code",
   "execution_count": null,
   "id": "dbf93d42-7d10-4ff0-9f3d-c715d6bc54cc",
   "metadata": {},
   "outputs": [],
   "source": [
    "show_image(test_image)"
   ]
  },
  {
   "cell_type": "markdown",
   "id": "01a240c7-fa26-4d98-9402-996cdef6f9d5",
   "metadata": {},
   "source": [
    "### Anwendung und Profiling"
   ]
  },
  {
   "cell_type": "code",
   "execution_count": null,
   "id": "2f582b39-3c09-4dab-838e-45b3f8aa0d99",
   "metadata": {},
   "outputs": [],
   "source": [
    "size = test_image.width*test_image.height\n",
    "img_bytes = bytearray(test_image.tobytes())\n",
    "\n",
    "t0 = time.time()\n",
    "grayscale_filter_py(size, img_bytes)\n",
    "t1 = time.time()\n",
    "\n",
    "delta_t_py = t1-t0\n",
    "print(\"Execution time (Python): \", round(delta_t_py,3), \" seconds.\")"
   ]
  },
  {
   "cell_type": "code",
   "execution_count": null,
   "id": "7c9f50a2-ab16-40c8-91a2-fc0b7047037c",
   "metadata": {},
   "outputs": [],
   "source": [
    "result = Image.frombytes(test_image.mode, test_image.size, bytes(img_bytes)) \n",
    "show_image(result)"
   ]
  },
  {
   "cell_type": "markdown",
   "id": "364ea8f0-d2df-41b1-a0b8-901a27ff825d",
   "metadata": {},
   "source": [
    "<div class=\"alert alert-block alert-success\">\n",
    "\n",
    "### Aufgabe 2: \n",
    "#### Stellen Sie eine grobe Überschlagsrechnung an: Wie schnell sollte ein Rechner mit 4 GFLOPS, den Algorithmus für unser Testbild ausführen können?\n",
    "\n",
    "</div>"
   ]
  },
  {
   "cell_type": "code",
   "execution_count": null,
   "id": "d408239c-f36c-4752-b761-1f6fbb126f47",
   "metadata": {},
   "outputs": [],
   "source": []
  },
  {
   "cell_type": "markdown",
   "id": "350c8ce4-6113-4b12-935b-dd3a5b2488ca",
   "metadata": {},
   "source": [
    "# 2. C-Bibliothek"
   ]
  },
  {
   "cell_type": "markdown",
   "id": "3db94315-315c-44e7-8643-5777fa127e6c",
   "metadata": {},
   "source": [
    "<div class=\"alert alert-block alert-success\">\n",
    "    \n",
    "### Aufgabe 3: \n",
    "#### Welchen Datentyp verwenden wir in C um ein Byte darzustellen, welches einen Farbwert repräsentieren soll?\n",
    "</div>"
   ]
  },
  {
   "cell_type": "code",
   "execution_count": null,
   "id": "22ee57c9",
   "metadata": {},
   "outputs": [],
   "source": [
    "import ctypes"
   ]
  },
  {
   "cell_type": "code",
   "execution_count": null,
   "id": "a3b72bc2",
   "metadata": {},
   "outputs": [],
   "source": [
    "c_lib =ctypes.CDLL(\"./libgrayscale_c.dll\")"
   ]
  },
  {
   "cell_type": "code",
   "execution_count": null,
   "id": "a11a73bb",
   "metadata": {},
   "outputs": [],
   "source": [
    "size = test_image.width*test_image.height\n",
    "img_bytes = test_image.tobytes()\n",
    "\n",
    "t0 = time.time()\n",
    "c_lib.grayscale_filter(size, img_bytes)\n",
    "t1 = time.time()\n",
    "\n",
    "delta_t_C = t1-t0\n",
    "print(\"Execution time (C Lib.):\", round(delta_t_C,3), \" seconds.\")"
   ]
  },
  {
   "cell_type": "code",
   "execution_count": null,
   "id": "a07aaacd-578b-48f1-a405-4a4c08749bfb",
   "metadata": {},
   "outputs": [],
   "source": [
    "print(\"Factor: \"+ str(round(delta_t_py/delta_t_C,1)))"
   ]
  },
  {
   "cell_type": "code",
   "execution_count": null,
   "id": "6f681704-a6cc-4eb4-86bc-4b8716a677e4",
   "metadata": {},
   "outputs": [],
   "source": [
    "result = Image.frombytes(test_image.mode, test_image.size, img_bytes) \n",
    "show_image(result)"
   ]
  },
  {
   "cell_type": "markdown",
   "id": "dcc498b4-b80c-4672-bb26-b0018dda33d2",
   "metadata": {},
   "source": [
    "# 3. C-Extension als eigenständiges Modul"
   ]
  },
  {
   "cell_type": "code",
   "execution_count": null,
   "id": "ed3c40be-74a7-4291-8817-aa9df476092f",
   "metadata": {},
   "outputs": [],
   "source": [
    "import grayscale_module as gs"
   ]
  },
  {
   "cell_type": "code",
   "execution_count": null,
   "id": "0a86ea73-c1f0-41dd-ac68-ad38d3dc1aa2",
   "metadata": {},
   "outputs": [],
   "source": [
    "help(gs)"
   ]
  },
  {
   "cell_type": "code",
   "execution_count": null,
   "id": "2151d145-2da5-480c-9ba3-ffcfb74c524f",
   "metadata": {},
   "outputs": [],
   "source": [
    "size = test_image.width*test_image.height\n",
    "img_bytes = test_image.tobytes()\n",
    "\n",
    "t0 = time.time()\n",
    "gs.grayscale(size, img_bytes)\n",
    "t1 = time.time()\n",
    "\n",
    "delta_t_C_module = t1-t0\n",
    "print(\"Execution time (C Module):\", round(delta_t_C_module,3), \" seconds.\")"
   ]
  },
  {
   "cell_type": "code",
   "execution_count": null,
   "id": "a9cd53c9-63f3-4879-8bac-022457109fea",
   "metadata": {},
   "outputs": [],
   "source": [
    "print(\"Factor: \"+ str(round(delta_t_py/delta_t_C_module,1)))"
   ]
  },
  {
   "cell_type": "code",
   "execution_count": null,
   "id": "1b46cf05-a09c-4807-89cb-63a27529ace8",
   "metadata": {},
   "outputs": [],
   "source": [
    "result = Image.frombytes(test_image.mode, test_image.size, img_bytes)\n",
    "show_image(result)"
   ]
  },
  {
   "cell_type": "markdown",
   "id": "b135b1ce-6875-4785-b2b8-45035e132b7a",
   "metadata": {},
   "source": [
    "# 4. Results"
   ]
  },
  {
   "cell_type": "code",
   "execution_count": null,
   "id": "8de505be-40fe-47b8-83e6-258fad78d8ac",
   "metadata": {},
   "outputs": [],
   "source": [
    "from tabulate import tabulate"
   ]
  },
  {
   "cell_type": "code",
   "execution_count": null,
   "id": "64c66a10-0de6-459c-8e53-d3792a46d7cc",
   "metadata": {},
   "outputs": [],
   "source": [
    "head = [\"Execution Time [sec]\", \"Python Execution Time / Execution Time\"]"
   ]
  },
  {
   "cell_type": "code",
   "execution_count": null,
   "id": "69cdc919-fcc8-45d4-b01a-4086730de02c",
   "metadata": {},
   "outputs": [],
   "source": [
    "data = [\n",
    "    [\"Pure Python\", round(delta_t_py,3), 1.0],\n",
    "    [\"C Library (ctypes)\", round(delta_t_C,3), round(delta_t_py/delta_t_C,1)],\n",
    "    [\"C Module (C-Extension)\", round(delta_t_C_module,3), round(delta_t_py/delta_t_C_module,1)]]"
   ]
  },
  {
   "cell_type": "code",
   "execution_count": null,
   "id": "be13b01a-06d0-463a-ae0c-af0bb5bc4d0a",
   "metadata": {},
   "outputs": [],
   "source": [
    "print(tabulate(data, headers=head, tablefmt=\"fancy_grid\"))"
   ]
  },
  {
   "cell_type": "code",
   "execution_count": null,
   "id": "95106613-8955-4d2c-8005-93b27b4162a0",
   "metadata": {},
   "outputs": [],
   "source": []
  },
  {
   "cell_type": "code",
   "execution_count": null,
   "id": "a7ad8b03-a8ea-4f66-b462-48d0301263db",
   "metadata": {},
   "outputs": [],
   "source": []
  },
  {
   "cell_type": "markdown",
   "id": "ff4e9425-b8fb-4f24-9955-8a84fcf315db",
   "metadata": {},
   "source": [
    "## Wie schnell ist eigentlich der Grayscale-Filter von PIL?"
   ]
  },
  {
   "cell_type": "code",
   "execution_count": null,
   "id": "4edf4e64-7b9b-44c0-a140-d80f94c5e5ef",
   "metadata": {},
   "outputs": [],
   "source": [
    "from PIL import ImageOps"
   ]
  },
  {
   "cell_type": "code",
   "execution_count": null,
   "id": "228ae6ef-33df-4f53-8695-1250c6689609",
   "metadata": {},
   "outputs": [],
   "source": [
    "t0 = time.time()\n",
    "result = ImageOps.grayscale(test_image)\n",
    "t1 = time.time()\n",
    "\n",
    "delta_t_PIL = t1-t0\n",
    "print(\"Execution time (PIL):\", round(delta_t_PIL,3), \" seconds.\")"
   ]
  },
  {
   "cell_type": "code",
   "execution_count": null,
   "id": "b947616d-62d2-4fa0-a60c-291b14f808b1",
   "metadata": {},
   "outputs": [],
   "source": [
    "show_image(result)"
   ]
  },
  {
   "cell_type": "code",
   "execution_count": null,
   "id": "488d4fce-ec0a-4bcf-9076-86829194c272",
   "metadata": {},
   "outputs": [],
   "source": []
  },
  {
   "cell_type": "code",
   "execution_count": null,
   "id": "b63e6376-35d6-4b7b-9c56-7b88410b7c98",
   "metadata": {},
   "outputs": [],
   "source": []
  },
  {
   "cell_type": "code",
   "execution_count": null,
   "id": "aa7dda02-c64c-437d-af51-47221253d5af",
   "metadata": {},
   "outputs": [],
   "source": []
  },
  {
   "cell_type": "code",
   "execution_count": null,
   "id": "6bb6c965-dff1-492b-9580-e2ca12dffa68",
   "metadata": {},
   "outputs": [],
   "source": []
  },
  {
   "cell_type": "markdown",
   "id": "10de2e1b-59c1-4c22-9bd4-a3983f05e222",
   "metadata": {},
   "source": [
    "#### Appendix"
   ]
  },
  {
   "cell_type": "markdown",
   "id": "b4503d95-6d44-49f1-a0ff-359eb13e9c97",
   "metadata": {},
   "source": [
    "Man könnte den Grayscale-Filter in Python auch auf Pixel-Ebene implementieren, ohne mit einzelnen Bytes zu arbeiten. Dafür bietet PIL geeignete Methoden an (getpixel und putpixel). Dieser Ansatz ist aber extrem langsam, was vor allem an der ineffizienten Methode putpixel liegt. Probieren Sie es aus, mit dem folgenden Code:"
   ]
  },
  {
   "cell_type": "code",
   "execution_count": null,
   "id": "fd6ad55e",
   "metadata": {},
   "outputs": [],
   "source": [
    "def grayscale_filter_pixelwise(image):\n",
    "    \"\"\"Applies grayscale filter to image and returns gray image\"\"\"\n",
    "    \n",
    "    width, height = image.size\n",
    "    result = Image.new(image.mode, image.size) \n",
    "    \n",
    "    for x in range(width):\n",
    "        for y in range(height):            \n",
    "            r, g, b = image.getpixel((x,y))\n",
    "            avg = (r+g+b)//3 \n",
    "            result.putpixel((x,y), (avg,avg,avg)) # Extremely slow function!\n",
    "\n",
    "    return result"
   ]
  },
  {
   "cell_type": "code",
   "execution_count": null,
   "id": "aa44086e",
   "metadata": {},
   "outputs": [],
   "source": [
    "t0 = time.time()\n",
    "result = grayscale_filter_pixelwise(test_image)\n",
    "t1 = time.time()\n",
    "delta_t_pixels = t1-t0\n",
    "print(\"Execution time (Python, pixelwise): \", round(delta_t_pixels,3), \" seconds.\")"
   ]
  },
  {
   "cell_type": "markdown",
   "id": "7ef0d523-c13c-4759-9f70-ca903b4bbeb6",
   "metadata": {},
   "source": [
    "_________"
   ]
  },
  {
   "cell_type": "markdown",
   "id": "52c6d2b0-fca3-4da2-af38-b877de2d4698",
   "metadata": {},
   "source": [
    "author: Maik Weber, date: March 09, 2024"
   ]
  }
 ],
 "metadata": {
  "kernelspec": {
   "display_name": "Python 3 (ipykernel)",
   "language": "python",
   "name": "python3"
  },
  "language_info": {
   "codemirror_mode": {
    "name": "ipython",
    "version": 3
   },
   "file_extension": ".py",
   "mimetype": "text/x-python",
   "name": "python",
   "nbconvert_exporter": "python",
   "pygments_lexer": "ipython3"
  }
 },
 "nbformat": 4,
 "nbformat_minor": 5
}
