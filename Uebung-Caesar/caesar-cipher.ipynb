{
 "cells": [
  {
   "cell_type": "markdown",
   "id": "857c1412",
   "metadata": {},
   "source": [
    "<div class=\"alert alert-block alert-info\">\n",
    "\n",
    "##  Übung: Caesar-Verschlüsselung\n",
    "<a href=\"https://de.wikipedia.org/wiki/Caesar-Verschl%C3%BCsselung\">Wikipedia</a>\n",
    "    \n",
    "<b>Hintergrund:</b> Ein einfacher Verschlüsselungsalgorithmus, der die Zeichen eines Textes um eine feste Schrittweite zyklisch nach rechts verschiebt. Bei einer Schrittweite (\"key\") von 3 wird aus einem \"a\" ein \"d\", aus einem \"z\" ein \"c\". Die Entschlüsselung erfolgt durch die Umkehrung, also Verschieben nach links.  \n",
    "</div>"
   ]
  },
  {
   "cell_type": "markdown",
   "id": "370a2144",
   "metadata": {},
   "source": [
    "<div class=\"alert alert-block alert-success\">\n",
    "\n",
    "### Aufgabe 1: \n",
    "Wir beschränken uns in dieser Übung auf die Verschlüsselung von Standard-ASCII-Zeichen (128 Zeichen).\n",
    "\n",
    "Suchen Sie eine ASCII-Tabelle im Internet und finden Sie die Codes für die Kleinbuchstaben a-z und die Großbuchstaben A-Z. Alle anderen Zeichen sollen bei der Ver- und Entschlüsselung unverändert bleiben.\n",
    "</div>"
   ]
  },
  {
   "cell_type": "markdown",
   "id": "2ce27a9a",
   "metadata": {},
   "source": [
    "# 1. Pure Python"
   ]
  },
  {
   "cell_type": "code",
   "execution_count": null,
   "id": "99a42c8d",
   "metadata": {},
   "outputs": [],
   "source": [
    "import time #for profiling"
   ]
  },
  {
   "cell_type": "markdown",
   "id": "19f5574f",
   "metadata": {},
   "source": [
    "<div class=\"alert alert-block alert-success\">\n",
    "    \n",
    "### Aufgabe 2: \n",
    "Studieren Sie die Funktion caesar_encrypt und versuchen Sie, jede Zeile nachzuvollziehen. Schreiben Sie dann die Funktion caesar_decrypt und testen Sie beide Funktionen.\n",
    "</div>"
   ]
  },
  {
   "cell_type": "code",
   "execution_count": null,
   "id": "ba1f0761",
   "metadata": {},
   "outputs": [],
   "source": [
    "def caesar_encrypt(message, key):\n",
    "    result = \"\"\n",
    "\n",
    "    for character in message:\n",
    "        \n",
    "        if character.isalpha() and ord(character)<=127:  \n",
    "            \n",
    "            if character.islower():\n",
    "                result += chr(((ord(character) - 97 + key) % 26) + 97)\n",
    "            else:\n",
    "                result += chr(((ord(character) - 65 + key) % 26) + 65)\n",
    "        else:\n",
    "            result += character\n",
    "    return result  "
   ]
  },
  {
   "cell_type": "code",
   "execution_count": null,
   "id": "b9c9db05",
   "metadata": {},
   "outputs": [],
   "source": [
    "def caesar_decrypt(message, key):\n",
    "    result = \"\"\n",
    "    #\n",
    "    # Ihr Code\n",
    "    #\n",
    "    return result  "
   ]
  },
  {
   "cell_type": "markdown",
   "id": "3427375e-3a79-42eb-9ee6-ddde47d0b051",
   "metadata": {},
   "source": [
    "### Test:"
   ]
  },
  {
   "cell_type": "code",
   "execution_count": null,
   "id": "88492b51",
   "metadata": {},
   "outputs": [],
   "source": [
    "plain_text=\"Ich kam, sah und siegte!\""
   ]
  },
  {
   "cell_type": "code",
   "execution_count": null,
   "id": "0f016608",
   "metadata": {},
   "outputs": [],
   "source": [
    "key = 3"
   ]
  },
  {
   "cell_type": "code",
   "execution_count": null,
   "id": "d30390fa",
   "metadata": {},
   "outputs": [],
   "source": [
    "encr_text = caesar_encrypt(plain_text, 3)\n",
    "print(encr_text)"
   ]
  },
  {
   "cell_type": "code",
   "execution_count": null,
   "id": "56f23887",
   "metadata": {},
   "outputs": [],
   "source": [
    "caesar_decrypt(encr_text, 3)"
   ]
  },
  {
   "cell_type": "markdown",
   "id": "eac77bdb",
   "metadata": {},
   "source": [
    "<div class=\"alert alert-block alert-info\">\n",
    "\n",
    "##  Zum Testen und Profilen: DTA-Korpus\n",
    "Der DTA-Korpus (Deutsches Textarchiv) ist eine umfangreiche Sammlung von deutschen Texten aus verschiedenen Epochen (siehe www.deutschestextarchiv.de). Zu Teszwecken haben wir eine Sammlung wissenschaftlicher Texte heruntergeladen, die wir nun in einen langen, einzelnen String einlesen werden. Auf dem resultierenden String werden wir die Performance unserer Ver- und Entschlüsselung testen. \n",
    "</div>"
   ]
  },
  {
   "cell_type": "code",
   "execution_count": null,
   "id": "d5b06678",
   "metadata": {},
   "outputs": [],
   "source": [
    "import os\n",
    "\n",
    "n_files = 8 #max: 20\n",
    "\n",
    "#Create a list of all text files to read-in\n",
    "filenames = []\n",
    "\n",
    "files = os.listdir(\"./Korpus/\") #Path to \"Korpus\"-directory\n",
    "\n",
    "for file in files:\n",
    "    if file.endswith(\".txt\"):\n",
    "        filenames.append(file)\n",
    "\n",
    "        \n",
    "# Open all files and concatenate their contents\n",
    "\n",
    "test_plain_text = \"\"\n",
    "\n",
    "for filename in filenames[:n_files]:\n",
    "    file = open(\"./Korpus/\" + filename, \"r\", encoding=\"utf-8\")\n",
    "    text = file.read()\n",
    "    test_plain_text += text\n",
    "    file.close()\n"
   ]
  },
  {
   "cell_type": "code",
   "execution_count": null,
   "id": "6095fc49",
   "metadata": {},
   "outputs": [],
   "source": [
    "print(test_plain_text[:300])"
   ]
  },
  {
   "cell_type": "code",
   "execution_count": null,
   "id": "f903ecdf",
   "metadata": {},
   "outputs": [],
   "source": [
    "print(len(test_plain_text))"
   ]
  },
  {
   "cell_type": "code",
   "execution_count": null,
   "id": "4ba01b35",
   "metadata": {},
   "outputs": [],
   "source": [
    "print(caesar_encrypt(test_plain_text,3)[:300])"
   ]
  },
  {
   "cell_type": "markdown",
   "id": "aba47ea3",
   "metadata": {},
   "source": [
    "### Profiling:"
   ]
  },
  {
   "cell_type": "code",
   "execution_count": null,
   "id": "d51ae9c7",
   "metadata": {},
   "outputs": [],
   "source": [
    "t0 = time.time()\n",
    "encrypted = caesar_encrypt(test_plain_text,3)\n",
    "decrypted = caesar_decrypt(encrypted, 3)\n",
    "t1 = time.time()\n",
    "print(\"Execution time: \", round(t1-t0,3), \"sec.\")\n",
    "print(\"Check:\", decrypted == test_plain_text)"
   ]
  },
  {
   "cell_type": "markdown",
   "id": "57d10612",
   "metadata": {},
   "source": [
    "# 2. C-Bibliothek"
   ]
  },
  {
   "cell_type": "markdown",
   "id": "475ed974",
   "metadata": {},
   "source": [
    "<div class=\"alert alert-block alert-success\">\n",
    "    \n",
    "### Aufgabe 3: \n",
    "Öfnnen Sie den Ordner \"caesar_lib\". Studieren Sie die C-Implementierungen in caesar.c und vergleichen Sie sie mit den Python-Implementierungen. Wir umgehen die Allokierung von Speicher in C, indem wir den Array für das Resultat jeweils von außen übergeben. Auf diese Weise verhindern wir Speicherlecks von vornherein.\n",
    "    \n",
    "<b>Kompilieren Sie den C-Code als Shared Library. </b>\n",
    "\n",
    "<b>Binden Sie die Bibliothek über ctypes ein.</b>\n",
    "    \n",
    "</div>"
   ]
  },
  {
   "cell_type": "code",
   "execution_count": null,
   "id": "0a4db6ee",
   "metadata": {},
   "outputs": [],
   "source": [
    "import ctypes"
   ]
  },
  {
   "cell_type": "code",
   "execution_count": null,
   "id": "de664506",
   "metadata": {},
   "outputs": [],
   "source": [
    "c_lib =ctypes.CDLL(\"\") #Pfad zu Ihrer Shared Library"
   ]
  },
  {
   "cell_type": "markdown",
   "id": "45642ddd",
   "metadata": {},
   "source": [
    "### Encrypting"
   ]
  },
  {
   "cell_type": "markdown",
   "id": "31dac25b",
   "metadata": {},
   "source": [
    "<div class=\"alert alert-block alert-success\">\n",
    "    \n",
    "### Aufgabe 4: \n",
    "Der C-Code erwartet char-Arrays. Bevor Sie weiterlesen, überlegen Sie sich folgende Frage:\n",
    "    \n",
    "<b>Wie konvertieren Sie Python-Strings in Byte-Arrays und umgekehrt?</b>\n",
    "    \n",
    "</div>"
   ]
  },
  {
   "cell_type": "code",
   "execution_count": null,
   "id": "eccd33d1",
   "metadata": {},
   "outputs": [],
   "source": [
    "bytes_plain_text = test_plain_text.encode('utf-8') #utf-8 is compatible with ASCII\n",
    "result_buffer = test_plain_text[:]\n",
    "bytes_buffer = result_buffer.encode('utf-8')"
   ]
  },
  {
   "cell_type": "code",
   "execution_count": null,
   "id": "8c45c224",
   "metadata": {},
   "outputs": [],
   "source": [
    "c_lib.caesar_encrypt(bytes_plain_text,len(test_plain_text), 3, bytes_buffer)"
   ]
  },
  {
   "cell_type": "code",
   "execution_count": null,
   "id": "d8d7977a",
   "metadata": {},
   "outputs": [],
   "source": [
    "encrypted = bytes_buffer.decode('utf-8')"
   ]
  },
  {
   "cell_type": "code",
   "execution_count": null,
   "id": "18b5b3c8",
   "metadata": {},
   "outputs": [],
   "source": [
    "print(encrypted[:100])"
   ]
  },
  {
   "cell_type": "markdown",
   "id": "58466e38",
   "metadata": {},
   "source": [
    "### Decrypting "
   ]
  },
  {
   "cell_type": "code",
   "execution_count": null,
   "id": "4685f158",
   "metadata": {},
   "outputs": [],
   "source": [
    "bytes_encrypted_text = encrypted.encode('utf-8')"
   ]
  },
  {
   "cell_type": "code",
   "execution_count": null,
   "id": "e9f69112",
   "metadata": {},
   "outputs": [],
   "source": [
    "result_buffer = encrypted[:]\n",
    "bytes_buffer = result_buffer.encode('utf-8')"
   ]
  },
  {
   "cell_type": "code",
   "execution_count": null,
   "id": "f58008a9",
   "metadata": {},
   "outputs": [],
   "source": [
    "c_lib.caesar_decrypt(bytes_encrypted_text, len(encrypted),3, bytes_buffer)"
   ]
  },
  {
   "cell_type": "code",
   "execution_count": null,
   "id": "6d527d52",
   "metadata": {},
   "outputs": [],
   "source": [
    "decrypted_text = bytes_buffer.decode('utf-8')"
   ]
  },
  {
   "cell_type": "code",
   "execution_count": null,
   "id": "5b69bb21",
   "metadata": {},
   "outputs": [],
   "source": [
    "decrypted_text[:100]"
   ]
  },
  {
   "cell_type": "markdown",
   "id": "ef3fbab3",
   "metadata": {},
   "source": [
    "### Profiling"
   ]
  },
  {
   "cell_type": "markdown",
   "id": "09fdc3fb",
   "metadata": {},
   "source": [
    "<div class=\"alert alert-block alert-success\">\n",
    "    \n",
    "### Aufgabe 5: \n",
    "<b> Messen Sie die Execution Time unter Verwendung der C-Bibliothek und vergleichen Sie Ihr Ergebnis mit der Pure-Python-Implementierung.\n",
    "</div>"
   ]
  },
  {
   "cell_type": "code",
   "execution_count": null,
   "id": "79f4d33f",
   "metadata": {},
   "outputs": [],
   "source": [
    "t0 = time.time()\n",
    "\n",
    "#\n",
    "# Ihr Code\n",
    "#\n",
    "\n",
    "t1 = time.time()\n",
    "print(\"Execution time: \", round(t1-t0,3), \"sec.\")\n",
    "print(\"Check: \", decrypted_text == test_plain_text)"
   ]
  },
  {
   "cell_type": "markdown",
   "id": "e5139a9d",
   "metadata": {},
   "source": [
    "# 3. C-Extension"
   ]
  },
  {
   "cell_type": "markdown",
   "id": "417025ec",
   "metadata": {},
   "source": [
    "<div class=\"alert alert-block alert-success\">\n",
    "    \n",
    "### Aufgabe 6: Das Meisterstück\n",
    "Öffnen Sie den Ordner \"caesar_module\":\n",
    "\n",
    "<b>Bearbeiten Sie die Teilaufgaben in ceasar_module.c und installieren Sie das Modul anschließend. Testen Sie Ihr Modul!</b>\n",
    "</div>"
   ]
  },
  {
   "cell_type": "code",
   "execution_count": null,
   "id": "f3d11339",
   "metadata": {},
   "outputs": [],
   "source": [
    "import caesar_module as cm"
   ]
  },
  {
   "cell_type": "code",
   "execution_count": null,
   "id": "6f5789fe",
   "metadata": {},
   "outputs": [],
   "source": [
    "help(cm)"
   ]
  },
  {
   "cell_type": "code",
   "execution_count": null,
   "id": "5d0f7e49-c6b2-4d32-be32-248232ea7c2f",
   "metadata": {},
   "outputs": [],
   "source": [
    "key = 3"
   ]
  },
  {
   "cell_type": "code",
   "execution_count": null,
   "id": "5844b8bb",
   "metadata": {},
   "outputs": [],
   "source": [
    "encrypted = cm.encrypt(test_plain_text, key)"
   ]
  },
  {
   "cell_type": "code",
   "execution_count": null,
   "id": "0e94364e",
   "metadata": {},
   "outputs": [],
   "source": [
    "print(encrypted[:100])"
   ]
  },
  {
   "cell_type": "code",
   "execution_count": null,
   "id": "db27ec4f",
   "metadata": {},
   "outputs": [],
   "source": [
    "decrypted = cm.decrypt(encrypted, key)"
   ]
  },
  {
   "cell_type": "code",
   "execution_count": null,
   "id": "3e4e326d-11be-4751-88ae-05b422f45d9b",
   "metadata": {},
   "outputs": [],
   "source": [
    "decrypted == test_plain_text"
   ]
  },
  {
   "cell_type": "code",
   "execution_count": null,
   "id": "c8115f3a-ce51-40d9-8b14-68f6dadde2a8",
   "metadata": {},
   "outputs": [],
   "source": [
    "decrypted[:100]"
   ]
  },
  {
   "cell_type": "code",
   "execution_count": null,
   "id": "29a6de54-6d4a-4115-abf4-09ceda90a6db",
   "metadata": {},
   "outputs": [],
   "source": [
    "t0 = time.time()\n",
    "encrypted = cm.encrypt(test_plain_text, key)\n",
    "decrypted = cm.decrypt(encrypted, key)\n",
    "t1 = time.time()\n",
    "print(\"Execution time: \", round(t1-t0,3), \"sec.\")\n",
    "print(\"Check: \", encrypted != test_plain_text and decrypted==test_plain_text)"
   ]
  },
  {
   "cell_type": "markdown",
   "id": "b36edc9f",
   "metadata": {},
   "source": [
    "----------------------------------------------------------------------------------------------------------------"
   ]
  },
  {
   "cell_type": "markdown",
   "id": "be5c1dc7",
   "metadata": {},
   "source": [
    "<b>Ich hoffe, Sie hatten Erfolg und Freude mit dieser Übungsaufgabe und konnten Ihre Kenntnisse zum Thema C-Extensions vertiefen! Vielen Dank.\n",
    "\n",
    "</b>\n",
    "Author: Maik Weber, Date: March 09, 2024"
   ]
  }
 ],
 "metadata": {
  "kernelspec": {
   "display_name": "Python 3 (ipykernel)",
   "language": "python",
   "name": "python3"
  },
  "language_info": {
   "codemirror_mode": {
    "name": "ipython",
    "version": 3
   },
   "file_extension": ".py",
   "mimetype": "text/x-python",
   "name": "python",
   "nbconvert_exporter": "python",
   "pygments_lexer": "ipython3"
  }
 },
 "nbformat": 4,
 "nbformat_minor": 5
}
